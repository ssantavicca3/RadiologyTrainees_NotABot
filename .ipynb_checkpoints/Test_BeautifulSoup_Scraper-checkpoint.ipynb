{
 "cells": [
  {
   "cell_type": "markdown",
   "id": "527aabd8",
   "metadata": {},
   "source": [
    "# Goal with this is to nail down the part of the scraper that actually retreives and parses each profile's webpage.\n",
    "Only example scraping health.usnews.com (granted, I didn't search too much): https://medium.com/analytics-vidhya/web-scraping-best-childrens-hospitals-for-cancer-5574db6d4090"
   ]
  },
  {
   "cell_type": "code",
   "execution_count": 1,
   "id": "4b068b3f",
   "metadata": {},
   "outputs": [],
   "source": [
    "# NB: There is some overlap between the libraries used in the following tests\n",
    "# For Test A\n",
    "from bs4 import BeautifulSoup\n",
    "import requests\n",
    "\n",
    "import json\n",
    "import pandas as pd\n",
    "\n",
    "import pprint\n",
    "\n",
    "# For Test B\n",
    "from urllib.request import Request, urlopen\n",
    "\n",
    "# For Test C"
   ]
  },
  {
   "cell_type": "markdown",
   "id": "24960f85",
   "metadata": {},
   "source": [
    "# Test A"
   ]
  },
  {
   "cell_type": "code",
   "execution_count": null,
   "id": "b7d74fd7",
   "metadata": {},
   "outputs": [],
   "source": [
    "# Test A1\n",
    "url = 'https://health.usnews.com/doctors/richard-duszak-130940'\n",
    "prefix = 'https://health.usnews.com/'\n",
    "user_agent = {'User-agent' : 'Mozilla/5.0'}\n",
    "\n",
    "page = requests.get(url, headers=user_agent)\n",
    "soup = BeautifulSoup(page.text, 'lxml')"
   ]
  },
  {
   "cell_type": "code",
   "execution_count": null,
   "id": "f2a3356e",
   "metadata": {},
   "outputs": [],
   "source": [
    "# Test A2\n",
    "div_tags = [d for ld in soup.find_all('div class=\"mb5\"')]\n",
    "div_text = div_tags[-1].text\n",
    "div_data = json.loads(div_text.split(\"window['__PAGE_CONTEXT_QUERY_STATE__'] = \")[1].rstrip(';\\n'))\n",
    "\n",
    "matches = div_data.get('src/containers/pages/health/hospitals/search/index.js').get('data').get('matches')"
   ]
  },
  {
   "cell_type": "markdown",
   "id": "59213167",
   "metadata": {},
   "source": [
    "# Test B"
   ]
  },
  {
   "cell_type": "code",
   "execution_count": null,
   "id": "8e170bdd",
   "metadata": {},
   "outputs": [],
   "source": [
    "from urllib.request import Request, urlopen\n",
    "\n",
    "url = 'https://health.usnews.com/'\n",
    "\n",
    "req = Request(url, headers={'User-Agent': 'Mozilla/5.0'})\n",
    "\n",
    "webpage = urlopen(req).read()\n",
    "\n",
    "#soup.findAll(\"div\", {\"class\": \"EducationAndExperience__Item-dbww3o-0 eUTnkN\"})\n",
    "# soup = BeautifulSoup(html_content, \"lxml\")\n",
    "# print(soup.prettify())"
   ]
  },
  {
   "cell_type": "code",
   "execution_count": null,
   "id": "9c9c505e",
   "metadata": {},
   "outputs": [],
   "source": [
    "soup = BeautifulSoup(webpage, \"lxml\")\n",
    "print(soup.prettify())"
   ]
  },
  {
   "cell_type": "markdown",
   "id": "24e66def",
   "metadata": {},
   "source": [
    "# Take Aways\n",
    "1. Ultimately I think I need to find a way to just request/pull the specific info from a page rather than the whole thing.\n",
    "    - I think I can do this with py.scrapy\n",
    "2. I should also look into cycling (a) IP address and (b) headers."
   ]
  },
  {
   "cell_type": "markdown",
   "id": "05a5d7d2",
   "metadata": {},
   "source": [
    "# Test C - This is the best so far"
   ]
  },
  {
   "cell_type": "code",
   "execution_count": 4,
   "id": "cb48966b",
   "metadata": {},
   "outputs": [],
   "source": [
    "url = 'https://health.usnews.com/doctors/richard-duszak-130940'\n",
    "prefix = 'https://health.usnews.com/'\n",
    "user_agent = {'User-agent' : 'Mozilla/5.0'}\n",
    "page = requests.get(url, headers=user_agent)\n",
    "soup = BeautifulSoup(page.text, 'lxml')"
   ]
  },
  {
   "cell_type": "code",
   "execution_count": 6,
   "id": "659f22a0",
   "metadata": {},
   "outputs": [
    {
     "name": "stdout",
     "output_type": "stream",
     "text": [
      "[<div class=\"EducationAndExperience__Item-dbww3o-0 eUTnkN\" spacing=\"4\"><p class=\"Paragraph-sc-1iyax29-0 jyTtTz\" size=\"5\" spacing=\"0\">University of Pennsylvania Health System</p><p class=\"Paragraph-sc-1iyax29-0 kCHkVX\" color=\"#515767\" size=\"5\" spacing=\"0\">Fellowship<span class=\"Span-sc-19wk4id-0 kukjnS\" size=\"5\">, <!-- -->Vascular and Interventional Radiology</span></p></div>, <div class=\"EducationAndExperience__Item-dbww3o-0 eUTnkN\" spacing=\"4\"><p class=\"Paragraph-sc-1iyax29-0 jyTtTz\" size=\"5\" spacing=\"0\">Duke University Hospital</p><p class=\"Paragraph-sc-1iyax29-0 kCHkVX\" color=\"#515767\" size=\"5\" spacing=\"0\">Residency<span class=\"Span-sc-19wk4id-0 kukjnS\" size=\"5\">, <!-- -->Radiology</span></p></div>, <div class=\"EducationAndExperience__Item-dbww3o-0 eUTnkN\" spacing=\"4\"><p class=\"Paragraph-sc-1iyax29-0 jyTtTz\" size=\"5\" spacing=\"0\">York Hospital</p><p class=\"Paragraph-sc-1iyax29-0 kCHkVX\" color=\"#515767\" size=\"5\" spacing=\"0\">Internship<span class=\"Span-sc-19wk4id-0 kukjnS\" size=\"5\">, <!-- -->Transitional Year</span></p></div>, <div class=\"EducationAndExperience__Item-dbww3o-0 eUTnkN\" spacing=\"4\"><p class=\"Paragraph-sc-1iyax29-0 jyTtTz\" size=\"5\" spacing=\"0\">Pennsylvania State University College of Medicine</p><p class=\"Paragraph-sc-1iyax29-0 kCHkVX\" color=\"#515767\" size=\"5\" spacing=\"0\">Medical School</p></div>, <div class=\"EducationAndExperience__Item-dbww3o-0 eUTnkN\" spacing=\"4\"><p class=\"Paragraph-sc-1iyax29-0 jyTtTz\" size=\"5\" spacing=\"0\">NC State Medical License</p><p class=\"Paragraph-sc-1iyax29-0 kCHkVX\" color=\"#515767\" size=\"5\" spacing=\"0\">Active through <!-- -->1998</p></div>, <div class=\"EducationAndExperience__Item-dbww3o-0 eUTnkN\" spacing=\"4\"><p class=\"Paragraph-sc-1iyax29-0 jyTtTz\" size=\"5\" spacing=\"0\">PA State Medical License</p><p class=\"Paragraph-sc-1iyax29-0 kCHkVX\" color=\"#515767\" size=\"5\" spacing=\"0\">Active through <!-- -->2014</p></div>, <div class=\"EducationAndExperience__Item-dbww3o-0 eUTnkN\" spacing=\"4\"><p class=\"Paragraph-sc-1iyax29-0 jyTtTz\" size=\"5\" spacing=\"0\">MS State Medical License</p><p class=\"Paragraph-sc-1iyax29-0 kCHkVX\" color=\"#515767\" size=\"5\" spacing=\"0\">Active through <!-- -->2015</p></div>, <div class=\"EducationAndExperience__Item-dbww3o-0 eUTnkN\" spacing=\"4\"><p class=\"Paragraph-sc-1iyax29-0 jyTtTz\" size=\"5\" spacing=\"0\">TN State Medical License</p><p class=\"Paragraph-sc-1iyax29-0 kCHkVX\" color=\"#515767\" size=\"5\" spacing=\"0\">Active through <!-- -->2015</p></div>, <div class=\"EducationAndExperience__Item-dbww3o-0 eUTnkN\" spacing=\"4\"><p class=\"Paragraph-sc-1iyax29-0 jyTtTz\" size=\"5\" spacing=\"0\">SIR Fellow<span class=\"Span-sc-19wk4id-0 gVDJqi\" color=\"#515767\" size=\"5\"></span></p></div>, <div class=\"EducationAndExperience__Item-dbww3o-0 eUTnkN\" spacing=\"4\"><p class=\"Paragraph-sc-1iyax29-0 jyTtTz\" size=\"5\" spacing=\"0\">Outstanding Faculty Mentor Award<span class=\"Span-sc-19wk4id-0 gVDJqi\" color=\"#515767\" size=\"5\">, 2015</span></p></div>, <div class=\"EducationAndExperience__Item-dbww3o-0 eUTnkN\" spacing=\"4\"><p class=\"Paragraph-sc-1iyax29-0 jyTtTz\" size=\"5\" spacing=\"0\">Most Influential Radiology Researcher<span class=\"Span-sc-19wk4id-0 gVDJqi\" color=\"#515767\" size=\"5\">, 2014</span></p></div>, <div class=\"EducationAndExperience__Item-dbww3o-0 eUTnkN\" spacing=\"4\"><p class=\"Paragraph-sc-1iyax29-0 jyTtTz\" size=\"5\" spacing=\"0\">Outstanding Reviewer Award<span class=\"Span-sc-19wk4id-0 gVDJqi\" color=\"#515767\" size=\"5\">, 2014</span></p></div>, <div class=\"EducationAndExperience__Item-dbww3o-0 eUTnkN\" spacing=\"4\"><p class=\"Paragraph-sc-1iyax29-0 jyTtTz\" size=\"5\" spacing=\"0\">Volunteer Service Award<span class=\"Span-sc-19wk4id-0 gVDJqi\" color=\"#515767\" size=\"5\">, 2014</span></p></div>, <div class=\"EducationAndExperience__Item-dbww3o-0 eUTnkN\" spacing=\"4\"><p class=\"Paragraph-sc-1iyax29-0 jyTtTz\" size=\"5\" spacing=\"0\">William T. Thorwarth, Jr. Award for Excellence in Economics and Health Policy<span class=\"Span-sc-19wk4id-0 gVDJqi\" color=\"#515767\" size=\"5\">, 2013</span></p></div>, <div class=\"EducationAndExperience__Item-dbww3o-0 eUTnkN\" spacing=\"4\"><p class=\"Paragraph-sc-1iyax29-0 jyTtTz\" size=\"5\" spacing=\"0\">Best Doctors in Memphis<span class=\"Span-sc-19wk4id-0 gVDJqi\" color=\"#515767\" size=\"5\">, 2011</span></p></div>, <div class=\"EducationAndExperience__Item-dbww3o-0 eUTnkN\" spacing=\"4\"><p class=\"Paragraph-sc-1iyax29-0 jyTtTz\" size=\"5\" spacing=\"0\">Best Doctors in Memphis<span class=\"Span-sc-19wk4id-0 gVDJqi\" color=\"#515767\" size=\"5\">, 2012</span></p></div>, <div class=\"EducationAndExperience__Item-dbww3o-0 eUTnkN\" spacing=\"4\"><p class=\"Paragraph-sc-1iyax29-0 jyTtTz\" size=\"5\" spacing=\"0\">Featured Alumnus<span class=\"Span-sc-19wk4id-0 gVDJqi\" color=\"#515767\" size=\"5\">, 2010</span></p></div>, <div class=\"EducationAndExperience__Item-dbww3o-0 eUTnkN\" spacing=\"4\"><p class=\"Paragraph-sc-1iyax29-0 jyTtTz\" size=\"5\" spacing=\"0\">Fellow, Radiology Business Management Association<span class=\"Span-sc-19wk4id-0 gVDJqi\" color=\"#515767\" size=\"5\">, 2010</span></p></div>, <div class=\"EducationAndExperience__Item-dbww3o-0 eUTnkN\" spacing=\"4\"><p class=\"Paragraph-sc-1iyax29-0 jyTtTz\" size=\"5\" spacing=\"0\">Fellow (RBMA)<span class=\"Span-sc-19wk4id-0 gVDJqi\" color=\"#515767\" size=\"5\">, 2010</span></p></div>, <div class=\"EducationAndExperience__Item-dbww3o-0 eUTnkN\" spacing=\"4\"><p class=\"Paragraph-sc-1iyax29-0 jyTtTz\" size=\"5\" spacing=\"0\">Fellow, American College of Radiology<span class=\"Span-sc-19wk4id-0 gVDJqi\" color=\"#515767\" size=\"5\">, 2007</span></p></div>, <div class=\"EducationAndExperience__Item-dbww3o-0 eUTnkN\" spacing=\"4\"><p class=\"Paragraph-sc-1iyax29-0 jyTtTz\" size=\"5\" spacing=\"0\">Fellow (ACR)<span class=\"Span-sc-19wk4id-0 gVDJqi\" color=\"#515767\" size=\"5\">, 2007</span></p></div>, <div class=\"EducationAndExperience__Item-dbww3o-0 eUTnkN\" spacing=\"4\"><p class=\"Paragraph-sc-1iyax29-0 jyTtTz\" size=\"5\" spacing=\"0\">Exceptional Manuscript Reviewer Award<span class=\"Span-sc-19wk4id-0 gVDJqi\" color=\"#515767\" size=\"5\">, 2005</span></p></div>, <div class=\"EducationAndExperience__Item-dbww3o-0 eUTnkN\" spacing=\"4\"><p class=\"Paragraph-sc-1iyax29-0 jyTtTz\" size=\"5\" spacing=\"0\">Fellow, Society of Interventional Radiology<span class=\"Span-sc-19wk4id-0 gVDJqi\" color=\"#515767\" size=\"5\">, 2004</span></p></div>, <div class=\"EducationAndExperience__Item-dbww3o-0 eUTnkN\" spacing=\"4\"><p class=\"Paragraph-sc-1iyax29-0 jyTtTz\" size=\"5\" spacing=\"0\">Best Doctors in America<span class=\"Span-sc-19wk4id-0 gVDJqi\" color=\"#515767\" size=\"5\">, 2001</span></p></div>, <div class=\"EducationAndExperience__Item-dbww3o-0 eUTnkN\" spacing=\"4\"><p class=\"Paragraph-sc-1iyax29-0 jyTtTz\" size=\"5\" spacing=\"0\">Calhoun Award for Outstanding Contributions to Radiology Management<span class=\"Span-sc-19wk4id-0 gVDJqi\" color=\"#515767\" size=\"5\">, 2000</span></p></div>, <div class=\"EducationAndExperience__Item-dbww3o-0 eUTnkN\" spacing=\"4\"><p class=\"Paragraph-sc-1iyax29-0 jyTtTz\" size=\"5\" spacing=\"0\">Editor’s Recognition Award, with Special Distinction<span class=\"Span-sc-19wk4id-0 gVDJqi\" color=\"#515767\" size=\"5\">, 1999</span></p></div>, <div class=\"EducationAndExperience__Item-dbww3o-0 eUTnkN\" spacing=\"4\"><p class=\"Paragraph-sc-1iyax29-0 jyTtTz\" size=\"5\" spacing=\"0\">Editor’s Recognition Award, with Special Distinction<span class=\"Span-sc-19wk4id-0 gVDJqi\" color=\"#515767\" size=\"5\">, 2000</span></p></div>, <div class=\"EducationAndExperience__Item-dbww3o-0 eUTnkN\" spacing=\"4\"><p class=\"Paragraph-sc-1iyax29-0 jyTtTz\" size=\"5\" spacing=\"0\">Distinguished Faculty Award<span class=\"Span-sc-19wk4id-0 gVDJqi\" color=\"#515767\" size=\"5\">, 1999</span></p></div>, <div class=\"EducationAndExperience__Item-dbww3o-0 eUTnkN\" spacing=\"4\"><p class=\"Paragraph-sc-1iyax29-0 jyTtTz\" size=\"5\" spacing=\"0\">Distinguished Reviewer Award<span class=\"Span-sc-19wk4id-0 gVDJqi\" color=\"#515767\" size=\"5\">, 1998</span></p></div>, <div class=\"EducationAndExperience__Item-dbww3o-0 eUTnkN\" spacing=\"4\"><p class=\"Paragraph-sc-1iyax29-0 jyTtTz\" size=\"5\" spacing=\"0\">Residents Annual Award for Excellence in Teaching<span class=\"Span-sc-19wk4id-0 gVDJqi\" color=\"#515767\" size=\"5\">, 1996</span></p></div>, <div class=\"EducationAndExperience__Item-dbww3o-0 eUTnkN\" spacing=\"4\"><p class=\"Paragraph-sc-1iyax29-0 jyTtTz\" size=\"5\" spacing=\"0\">Andrew E. Yeates Memorial Award for Excellence in Neuroradiology<span class=\"Span-sc-19wk4id-0 gVDJqi\" color=\"#515767\" size=\"5\">, 1993</span></p></div>, <div class=\"EducationAndExperience__Item-dbww3o-0 eUTnkN\" spacing=\"4\"><p class=\"Paragraph-sc-1iyax29-0 jyTtTz\" size=\"5\" spacing=\"0\">Sylvia and Gilbert Nurick Medical Achievement Award for Academic Excellence and Outstanding Contributions to the College Community<span class=\"Span-sc-19wk4id-0 gVDJqi\" color=\"#515767\" size=\"5\">, 1989</span></p></div>, <div class=\"EducationAndExperience__Item-dbww3o-0 eUTnkN\" spacing=\"4\"><p class=\"Paragraph-sc-1iyax29-0 jyTtTz\" size=\"5\" spacing=\"0\">The Edward C. Hammond Memorial Scholarship for Academic Excellence<span class=\"Span-sc-19wk4id-0 gVDJqi\" color=\"#515767\" size=\"5\">, 1987</span></p></div>, <div class=\"EducationAndExperience__Item-dbww3o-0 eUTnkN\" spacing=\"4\"><p class=\"Paragraph-sc-1iyax29-0 jyTtTz\" size=\"5\" spacing=\"0\">Alpha Omega Alpha Honor Medical Society<span class=\"Span-sc-19wk4id-0 gVDJqi\" color=\"#515767\" size=\"5\">, 1987</span></p></div>, <div class=\"EducationAndExperience__Item-dbww3o-0 eUTnkN\" spacing=\"4\"><p class=\"Paragraph-sc-1iyax29-0 jyTtTz\" size=\"5\" spacing=\"0\">Biology Department Outstanding Graduate Award<span class=\"Span-sc-19wk4id-0 gVDJqi\" color=\"#515767\" size=\"5\">, 1985</span></p></div>, <div class=\"EducationAndExperience__Item-dbww3o-0 eUTnkN\" spacing=\"4\"><p class=\"Paragraph-sc-1iyax29-0 jyTtTz\" size=\"5\" spacing=\"0\">University Scholarship<span class=\"Span-sc-19wk4id-0 gVDJqi\" color=\"#515767\" size=\"5\">, 1981</span></p></div>]\n"
     ]
    }
   ],
   "source": [
    "# print(soup.prettify)\n",
    "my_divs = soup.findAll(\"div\", {\"class\": \"EducationAndExperience__Item-dbww3o-0 eUTnkN\"})\n",
    "print(my_divs)\n",
    "\n",
    "# NB: this isn't good enough. Need to get deeper down."
   ]
  },
  {
   "cell_type": "code",
   "execution_count": null,
   "id": "77f36967",
   "metadata": {},
   "outputs": [],
   "source": []
  }
 ],
 "metadata": {
  "kernelspec": {
   "display_name": "Python 3",
   "language": "python",
   "name": "python3"
  },
  "language_info": {
   "codemirror_mode": {
    "name": "ipython",
    "version": 3
   },
   "file_extension": ".py",
   "mimetype": "text/x-python",
   "name": "python",
   "nbconvert_exporter": "python",
   "pygments_lexer": "ipython3",
   "version": "3.8.8"
  }
 },
 "nbformat": 4,
 "nbformat_minor": 5
}
